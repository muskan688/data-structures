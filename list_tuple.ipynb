{
 "cells": [
  {
   "cell_type": "markdown",
   "id": "bbbdec1a-84f2-479c-9609-d62ccb0d021a",
   "metadata": {},
   "source": [
    "LIST"
   ]
  },
  {
   "cell_type": "code",
   "execution_count": 4,
   "id": "02c26da9-7093-4dca-977b-8a94a55702d7",
   "metadata": {
    "scrolled": true
   },
   "outputs": [
    {
     "name": "stdout",
     "output_type": "stream",
     "text": [
      "Average Temperature:34.1\n",
      "[32.5, 33.4, 32.2, 36.1, 35, 35.4, 34.1, 38.2, 36, 9]\n",
      "35\n",
      "[32.2, 36.1, 35, 35.4]\n",
      "[32.5, 33.4, 32.2]\n",
      "[32.7, 33.4, 32.2, 36.1, 35, 35.4, 34.1]\n",
      "[32.7, 33.4, 32.2, 36.1, 35, 35.4, 34.1, 36.2]\n",
      "[32.7, 33.4, 32.2, 36.1, 33.7, 35, 35.4, 34.1, 36.2]\n",
      "[32.7, 33.4, 32.2, 36.1, 33.7, 35, 35.4, 34.1]\n",
      "[32.2, 32.7, 33.4, 33.7, 34.1, 35, 35.4, 36.1]\n",
      "[32.2, 33.4, 33.7, 34.1, 35, 35.4, 36.1]\n",
      "[32.2, 33.4, 33.7, 34.1, 35, 36.1]\n"
     ]
    }
   ],
   "source": [
    "#daily temperature collected from sensors\n",
    "\n",
    "daily_temp=[32.5,33.4,32.2,36.1,35,35.4,34.1]\n",
    "temp=[38.2,36,9]\n",
    "\n",
    "print(f'Average Temperature:{(sum(daily_temp)/len(daily_temp))}')\n",
    "#concatenate\n",
    "print(daily_temp+temp)\n",
    "\n",
    "print(daily_temp[4]) #accessing the index value\n",
    "\n",
    "print(daily_temp[-5:-1]) #slicing\n",
    "\n",
    "print(daily_temp[:3])\n",
    "\n",
    "daily_temp[0]=32.7\n",
    "print(daily_temp)\n",
    "\n",
    "#append\n",
    "daily_temp.append(36.2)\n",
    "print(daily_temp)\n",
    "\n",
    "#insert\n",
    "daily_temp.insert(4,33.7)\n",
    "print(daily_temp)\n",
    "\n",
    "#remove\n",
    "daily_temp.remove(36.2)\n",
    "print(daily_temp)\n",
    "\n",
    "#sort\n",
    "daily_temp.sort()\n",
    "print(daily_temp)\n",
    "\n",
    "#delete\n",
    "del(daily_temp[1])\n",
    "print(daily_temp)\n",
    "\n",
    "#pop\n",
    "daily_temp.pop(5)\n",
    "print(daily_temp)\n",
    "\n",
    "\n"
   ]
  },
  {
   "cell_type": "markdown",
   "id": "cc8ce3e5-b84c-4acc-a240-b49ce6df8576",
   "metadata": {},
   "source": [
    "TUPLE (NO modifications CAN BE PERFORM ON THIS, IT IS UNEDITABLE, BUT WE CAN DO ACCESSING AND SLICING, add two tuples)"
   ]
  },
  {
   "cell_type": "code",
   "execution_count": 19,
   "id": "ad396fec-2543-43e6-a167-021559f900b4",
   "metadata": {},
   "outputs": [
    {
     "name": "stdout",
     "output_type": "stream",
     "text": [
      "35\n",
      "(32.2, 36.1, 35, 35.4)\n",
      "(32.5, 33.4, 32.2, 36.1, 35, 35.4, 34.1, 38.2, 36, 9)\n",
      "(32.5, 33.4, 32.2, 36.1, 35, 35.4, 34.1, 32.5, 33.4, 32.2, 36.1, 35, 35.4, 34.1)\n",
      "0\n",
      "[32.5, 33.4, 32.2, 36.1, 35, 35.4, 34.1]\n",
      "(32.5, 33.4, 32.2, 36.1, 35, 35.4, 34.1)\n"
     ]
    }
   ],
   "source": [
    "daily_temp=(32.5,33.4,32.2,36.1,35,35.4,34.1)\n",
    "temp=(38.2,36,9)\n",
    "#append\n",
    "#daily_temp.append(36.2)\n",
    "#print(daily_temp) # thorughs error\n",
    "print(daily_temp[4]) #accessing the index value\n",
    "print(daily_temp[-5:-1]) #slicing\n",
    "print(daily_temp+temp)\n",
    "\n",
    "print(daily_temp*2)\n",
    "print(daily_temp.index(32.5))\n",
    "temp_list=list(daily_temp)# converting tuple to list\n",
    "print(temp_list)\n",
    "\n",
    "temp_list=tuple(daily_temp)# converting list to tuple\n",
    "print(temp_list)"
   ]
  },
  {
   "cell_type": "code",
   "execution_count": null,
   "id": "d7e4fca1-97be-4cc6-b452-920addbb7411",
   "metadata": {},
   "outputs": [],
   "source": []
  },
  {
   "cell_type": "code",
   "execution_count": null,
   "id": "670d316e-457f-49f8-8e9a-dc20a6e0687a",
   "metadata": {},
   "outputs": [],
   "source": []
  }
 ],
 "metadata": {
  "kernelspec": {
   "display_name": "Python 3 (ipykernel)",
   "language": "python",
   "name": "python3"
  },
  "language_info": {
   "codemirror_mode": {
    "name": "ipython",
    "version": 3
   },
   "file_extension": ".py",
   "mimetype": "text/x-python",
   "name": "python",
   "nbconvert_exporter": "python",
   "pygments_lexer": "ipython3",
   "version": "3.12.4"
  }
 },
 "nbformat": 4,
 "nbformat_minor": 5
}
