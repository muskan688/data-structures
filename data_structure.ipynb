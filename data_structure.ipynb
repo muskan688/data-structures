{
 "cells": [
  {
   "cell_type": "markdown",
   "id": "bbbdec1a-84f2-479c-9609-d62ccb0d021a",
   "metadata": {},
   "source": [
    "LIST"
   ]
  },
  {
   "cell_type": "code",
   "execution_count": 4,
   "id": "02c26da9-7093-4dca-977b-8a94a55702d7",
   "metadata": {
    "scrolled": true
   },
   "outputs": [
    {
     "name": "stdout",
     "output_type": "stream",
     "text": [
      "Average Temperature:34.1\n",
      "[32.5, 33.4, 32.2, 36.1, 35, 35.4, 34.1, 38.2, 36, 9]\n",
      "35\n",
      "[32.2, 36.1, 35, 35.4]\n",
      "[32.5, 33.4, 32.2]\n",
      "[32.7, 33.4, 32.2, 36.1, 35, 35.4, 34.1]\n",
      "[32.7, 33.4, 32.2, 36.1, 35, 35.4, 34.1, 36.2]\n",
      "[32.7, 33.4, 32.2, 36.1, 33.7, 35, 35.4, 34.1, 36.2]\n",
      "[32.7, 33.4, 32.2, 36.1, 33.7, 35, 35.4, 34.1]\n",
      "[32.2, 32.7, 33.4, 33.7, 34.1, 35, 35.4, 36.1]\n",
      "[32.2, 33.4, 33.7, 34.1, 35, 35.4, 36.1]\n",
      "[32.2, 33.4, 33.7, 34.1, 35, 36.1]\n"
     ]
    }
   ],
   "source": [
    "#daily temperature collected from sensors\n",
    "\n",
    "daily_temp=[32.5,33.4,32.2,36.1,35,35.4,34.1]\n",
    "temp=[38.2,36,9]\n",
    "\n",
    "print(f'Average Temperature:{(sum(daily_temp)/len(daily_temp))}')\n",
    "#concatenate\n",
    "print(daily_temp+temp)\n",
    "\n",
    "print(daily_temp[4]) #accessing the index value\n",
    "\n",
    "print(daily_temp[-5:-1]) #slicing\n",
    "\n",
    "print(daily_temp[:3])\n",
    "\n",
    "daily_temp[0]=32.7\n",
    "print(daily_temp)\n",
    "\n",
    "#append\n",
    "daily_temp.append(36.2)\n",
    "print(daily_temp)\n",
    "\n",
    "#insert\n",
    "daily_temp.insert(4,33.7)\n",
    "print(daily_temp)\n",
    "\n",
    "#remove\n",
    "daily_temp.remove(36.2)\n",
    "print(daily_temp)\n",
    "\n",
    "#sort\n",
    "daily_temp.sort()\n",
    "print(daily_temp)\n",
    "\n",
    "#delete\n",
    "del(daily_temp[1])\n",
    "print(daily_temp)\n",
    "\n",
    "#pop\n",
    "daily_temp.pop(5)\n",
    "print(daily_temp)\n",
    "\n",
    "\n"
   ]
  },
  {
   "cell_type": "markdown",
   "id": "cc8ce3e5-b84c-4acc-a240-b49ce6df8576",
   "metadata": {},
   "source": [
    "TUPLE (NO modifications CAN BE PERFORM ON THIS, IT IS UNEDITABLE, BUT WE CAN DO ACCESSING AND SLICING, add two tuples)"
   ]
  },
  {
   "cell_type": "code",
   "execution_count": 19,
   "id": "ad396fec-2543-43e6-a167-021559f900b4",
   "metadata": {},
   "outputs": [
    {
     "name": "stdout",
     "output_type": "stream",
     "text": [
      "35\n",
      "(32.2, 36.1, 35, 35.4)\n",
      "(32.5, 33.4, 32.2, 36.1, 35, 35.4, 34.1, 38.2, 36, 9)\n",
      "(32.5, 33.4, 32.2, 36.1, 35, 35.4, 34.1, 32.5, 33.4, 32.2, 36.1, 35, 35.4, 34.1)\n",
      "0\n",
      "[32.5, 33.4, 32.2, 36.1, 35, 35.4, 34.1]\n",
      "(32.5, 33.4, 32.2, 36.1, 35, 35.4, 34.1)\n"
     ]
    }
   ],
   "source": [
    "daily_temp=(32.5,33.4,32.2,36.1,35,35.4,34.1)\n",
    "temp=(38.2,36,9)\n",
    "#append\n",
    "#daily_temp.append(36.2)\n",
    "#print(daily_temp) # thorughs error\n",
    "print(daily_temp[4]) #accessing the index value\n",
    "print(daily_temp[-5:-1]) #slicing\n",
    "print(daily_temp+temp)\n",
    "\n",
    "print(daily_temp*2)\n",
    "print(daily_temp.index(32.5))\n",
    "temp_list=list(daily_temp)# converting tuple to list\n",
    "print(temp_list)\n",
    "\n",
    "temp_list=tuple(daily_temp)# converting list to tuple\n",
    "print(temp_list)"
   ]
  },
  {
   "cell_type": "markdown",
   "id": "1a250a01-64a2-424c-8109-e22c27600bd2",
   "metadata": {},
   "source": [
    "DICTIONARY (created only in curly brackets, done in key value pai, keys should be unique, values can be duplicated, key and value have index no same."
   ]
  },
  {
   "cell_type": "code",
   "execution_count": 43,
   "id": "670d316e-457f-49f8-8e9a-dc20a6e0687a",
   "metadata": {
    "scrolled": true
   },
   "outputs": [
    {
     "name": "stdout",
     "output_type": "stream",
     "text": [
      "{'Monday': 32.5, 'Tuesday': 35.6, 'Wednesday': 37.5, 'Thursday': 33.4}\n",
      "37.5\n",
      "Not available\n",
      "33.4\n",
      "33.4\n",
      "{'Monday': 32.5, 'Tuesday': 35.6, 'Wednesday': 37.5, 'Thursday': 33.4, 'Sunday': 35.3}\n",
      "{'Monday': 32.5, 'Tuesday': 35.6, 'Wednesday': 37.5, 'Thursday': 33.4, 'Sunday': 36.1}\n",
      "{'Siddhartha': 'Hermann Hesse', 'Animal Farm': 'George Orwell', 'Dracula': 'Bram Stoker', 'Emma': 'Jane Austen', 'Beloved': 'Toni Morrison', 'Inferno': 'Dante Alighieri'}\n",
      "{'Monday': 32.5, 'Wednesday': 37.5, 'Thursday': 33.4, 'Sunday': 36.1}\n",
      "True\n",
      "False\n",
      "{'Monday': 32.5, 'Wednesday': 37.5, 'Thursday': 33.4, 'Sunday': 36.1}\n"
     ]
    }
   ],
   "source": [
    "#weather data\n",
    "\n",
    "weather={\n",
    "    'Monday':32.5,\n",
    "    'Tuesday':35.6,\n",
    "    'Wednesday':37.5,\n",
    "    'Thursday':33.4\n",
    "}\n",
    "\n",
    "print(weather)\n",
    "\n",
    "print(weather['Wednesday'])\n",
    "\n",
    "print(weather.get('Friday', 'Not available'))  #helps in avoiding error if we want to access something is not there in data\n",
    "\n",
    "print(weather.get('Thursday', 'Not available'))\n",
    "print(weather.get('Thursday'))\n",
    "\n",
    "\n",
    "weather['Sunday']= 35.3  #adding new key value pair\n",
    "print(weather)\n",
    "\n",
    "weather['Sunday']= 36.1  #updating\n",
    "print(weather)\n",
    "\n",
    "books={\n",
    "    'Siddhartha':'Hermann Hesse',\n",
    "    'Animal Farm':'George Orwell',\n",
    "    'Dracula':'Bram Stoker',\n",
    "    'Emma':'Jane Austen',\n",
    "    'Beloved':'Toni Morrison',\n",
    "    'Inferno':'Dante Alighieri'\n",
    "}\n",
    "print(books)\n",
    "\n",
    "#pop function\n",
    "\n",
    "weather.pop('Tuesday')\n",
    "print(weather)\n",
    "\n",
    "print('Monday' in weather)\n",
    "print('Monday' not in weather) #boolean\n",
    "\n",
    "w_new=weather.copy()   #copying the whole dictianary to another dictanory\n",
    "print(w_new)"
   ]
  },
  {
   "cell_type": "markdown",
   "id": "912b77b1-f23c-48ac-8d14-d94def02214e",
   "metadata": {},
   "source": [
    "SET (also created in curly brackets but not in key value pair, helps to avoid duplicate value, lists have duplicate but not in sets,dict keys no duplicate but values can be,, in sets unorder format but not in list , dic,, all 3 are mutable, list- need in sequence manner, sets- data in unique manner)"
   ]
  },
  {
   "cell_type": "code",
   "execution_count": 63,
   "id": "6e671986-279b-4bf9-9cae-33cfb9d02ff4",
   "metadata": {},
   "outputs": [
    {
     "name": "stdout",
     "output_type": "stream",
     "text": [
      "{32.5, 33.4, 32.2, 35, 36.1, 35.4, 34.1, 32}\n",
      "{32.5, 33.4, 32.2, 35, 36.1, 35.4, 34.1, 32, 37.0}\n",
      "{32.5, 33.4, 32.2, 35, 36.1, 35.4, 34.1, 32, 37.0}\n",
      "{32.5, 33.4, 32.2, 35, 36.1, 35.4, 34.1, 32}\n",
      "set()\n"
     ]
    },
    {
     "ename": "NameError",
     "evalue": "name 'daily' is not defined",
     "output_type": "error",
     "traceback": [
      "\u001b[1;31m---------------------------------------------------------------------------\u001b[0m",
      "\u001b[1;31mNameError\u001b[0m                                 Traceback (most recent call last)",
      "Cell \u001b[1;32mIn[63], line 18\u001b[0m\n\u001b[0;32m     16\u001b[0m \u001b[38;5;28mprint\u001b[39m(daily)\n\u001b[0;32m     17\u001b[0m \u001b[38;5;28;01mdel\u001b[39;00m daily\n\u001b[1;32m---> 18\u001b[0m \u001b[38;5;28mprint\u001b[39m(daily)\n",
      "\u001b[1;31mNameError\u001b[0m: name 'daily' is not defined"
     ]
    }
   ],
   "source": [
    "daily_temp={32.5,33.4,32.2,36.1,35,35.4,34.1,32.5,34.1,32,36.1,32.2}\n",
    "print(daily_temp)\n",
    "\n",
    "daily_temp.add(37.0)\n",
    "print(daily_temp)\n",
    "\n",
    "#daily_temp.remove(37.1) # gives error because not present in data\n",
    "#print(daily_temp)\n",
    "\n",
    "daily_temp.discard(37.1) # this function doesnot give error if value in not present in data  (no error because it is designed to handle the missing elemenents in the sets,(exceptional handling behaviour)) \n",
    "print(daily_temp)\n",
    "\n",
    "daily={32.5,33.4,32.2,36.1,35,35.4,34.1,32.5,34.1,32,36.1,32.2}\n",
    "print(daily)\n",
    "daily.clear() #showing set is present but no value\n",
    "print(daily)\n",
    "\n",
    "#del daily #shows not defined  (deleteing complete set)\n",
    "#print(daily)"
   ]
  },
  {
   "cell_type": "code",
   "execution_count": 73,
   "id": "360d4d34-1cf4-45f1-b9ff-c96534e34254",
   "metadata": {},
   "outputs": [
    {
     "name": "stdout",
     "output_type": "stream",
     "text": [
      "{1, 2, 3, 4, 5, 6, 7, 9}\n",
      "{3, 4}\n",
      "{1, 5, 6}\n",
      "{9, 2, 7}\n",
      "{1, 3, 4, 5, 6}\n"
     ]
    }
   ],
   "source": [
    "set1={1,3,4,5,6}\n",
    "set2={3,7,2,4,9}\n",
    "\n",
    "print(set1 | set2)  #union\n",
    "\n",
    "print(set1 & set2)  #intersection\n",
    "\n",
    "print(set1 - set2)  #substraction\n",
    "print(set2 - set1)  #substraction\n",
    "\n",
    "setb=set1.copy()   #copying a set\n",
    "print(setb)\n",
    "\n"
   ]
  },
  {
   "cell_type": "code",
   "execution_count": 75,
   "id": "492e0b59-7ea4-4e63-bb86-a9edc133bfe6",
   "metadata": {},
   "outputs": [
    {
     "name": "stdout",
     "output_type": "stream",
     "text": [
      "{3, 4}\n"
     ]
    }
   ],
   "source": [
    "set1=[1,3,4,5,6]\n",
    "set2=[3,7,2,4,9]\n",
    "\n",
    "common=set(set1) & set(set2)    #here we areb using list and converting it into set by using set function and performing intersection\n",
    "print(common)"
   ]
  },
  {
   "cell_type": "code",
   "execution_count": 77,
   "id": "1bf56093-3062-4a3e-90be-f4baa709abe2",
   "metadata": {},
   "outputs": [
    {
     "name": "stdout",
     "output_type": "stream",
     "text": [
      "{1, 5, 6}\n"
     ]
    }
   ],
   "source": [
    "set1=[1,3,4,5,6]\n",
    "set2=[3,4]\n",
    "\n",
    "missing= set(set1) - set(set2)   \n",
    "print(missing)"
   ]
  },
  {
   "cell_type": "code",
   "execution_count": null,
   "id": "b2970221-1ad2-4aa1-817d-0bd389f56879",
   "metadata": {},
   "outputs": [],
   "source": []
  }
 ],
 "metadata": {
  "kernelspec": {
   "display_name": "Python 3 (ipykernel)",
   "language": "python",
   "name": "python3"
  },
  "language_info": {
   "codemirror_mode": {
    "name": "ipython",
    "version": 3
   },
   "file_extension": ".py",
   "mimetype": "text/x-python",
   "name": "python",
   "nbconvert_exporter": "python",
   "pygments_lexer": "ipython3",
   "version": "3.12.4"
  }
 },
 "nbformat": 4,
 "nbformat_minor": 5
}
